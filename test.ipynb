{
  "nbformat": 4,
  "nbformat_minor": 0,
  "metadata": {
    "colab": {
      "provenance": [],
      "authorship_tag": "ABX9TyN0XKd5f0jDGAkaNSVspibW",
      "include_colab_link": true
    },
    "kernelspec": {
      "name": "python3",
      "display_name": "Python 3"
    },
    "language_info": {
      "name": "python"
    }
  },
  "cells": [
    {
      "cell_type": "markdown",
      "metadata": {
        "id": "view-in-github",
        "colab_type": "text"
      },
      "source": [
        "<a href=\"https://colab.research.google.com/github/AanchalDogra/CNN/blob/main/test.ipynb\" target=\"_parent\"><img src=\"https://colab.research.google.com/assets/colab-badge.svg\" alt=\"Open In Colab\"/></a>"
      ]
    },
    {
      "cell_type": "code",
      "execution_count": 1,
      "metadata": {
        "colab": {
          "base_uri": "https://localhost:8080/"
        },
        "id": "A9UzJrZO0hYp",
        "outputId": "2bba822e-ad89-4be8-ff40-3897d91dd268"
      },
      "outputs": [
        {
          "output_type": "stream",
          "name": "stdout",
          "text": [
            "   Column1 Column2  Count\n",
            "0        1       A      2\n",
            "1        1       B      1\n",
            "2        2       B      2\n",
            "3        3       A      1\n",
            "4        3       C      1\n"
          ]
        }
      ],
      "source": [
        "import pandas as pd\n",
        "\n",
        "# Sample DataFrame\n",
        "data = {'Column1': [1, 2, 1, 3, 2, 1, 3],\n",
        "        'Column2': ['A', 'B', 'A', 'C', 'B', 'B', 'A']}\n",
        "df = pd.DataFrame(data)\n",
        "\n",
        "# Group by both columns and count occurrences\n",
        "grouped = df.groupby(['Column1', 'Column2']).size().reset_index(name='Count')\n",
        "\n",
        "print(grouped)"
      ]
    },
    {
      "cell_type": "code",
      "source": [
        "from collections import OrderedDict\n",
        "\n",
        "# Example arrays\n",
        "array1 = [1, 2, 3, 4, 5]\n",
        "array2 = [3, 4, 5, 6, 7]\n",
        "\n",
        "# Combine the arrays while preserving order and remove duplicates\n",
        "unique_elements_ordered = list(OrderedDict.fromkeys(array1 + array2))\n",
        "\n",
        "print(unique_elements_ordered)"
      ],
      "metadata": {
        "colab": {
          "base_uri": "https://localhost:8080/"
        },
        "id": "aofGjlAu0iYn",
        "outputId": "47ee48c4-33ac-494f-fe7d-0130b76521d4"
      },
      "execution_count": 3,
      "outputs": [
        {
          "output_type": "stream",
          "name": "stdout",
          "text": [
            "[1, 2, 3, 4, 5, 6, 7]\n"
          ]
        }
      ]
    },
    {
      "cell_type": "code",
      "source": [],
      "metadata": {
        "id": "OHmVZXgW0nlo"
      },
      "execution_count": null,
      "outputs": []
    }
  ]
}