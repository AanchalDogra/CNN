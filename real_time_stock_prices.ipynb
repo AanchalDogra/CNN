{
  "nbformat": 4,
  "nbformat_minor": 0,
  "metadata": {
    "colab": {
      "provenance": [],
      "authorship_tag": "ABX9TyNx9Yoidzw0hgB8TEO/iqEn",
      "include_colab_link": true
    },
    "kernelspec": {
      "name": "python3",
      "display_name": "Python 3"
    },
    "language_info": {
      "name": "python"
    }
  },
  "cells": [
    {
      "cell_type": "markdown",
      "metadata": {
        "id": "view-in-github",
        "colab_type": "text"
      },
      "source": [
        "<a href=\"https://colab.research.google.com/github/AanchalDogra/CNN/blob/main/real_time_stock_prices.ipynb\" target=\"_parent\"><img src=\"https://colab.research.google.com/assets/colab-badge.svg\" alt=\"Open In Colab\"/></a>"
      ]
    },
    {
      "cell_type": "code",
      "execution_count": null,
      "metadata": {
        "id": "qoYO6KHVC_hT"
      },
      "outputs": [],
      "source": [
        "url = 'https://www.google.com/finance/quote/BAJFINANCE:NSE'"
      ]
    },
    {
      "cell_type": "code",
      "source": [
        "import requests\n",
        "from bs4 import BeautifulSoup\n",
        "import time"
      ],
      "metadata": {
        "id": "Y2IiZWxFDYin"
      },
      "execution_count": null,
      "outputs": []
    },
    {
      "cell_type": "code",
      "source": [
        "ticker = 'ZEEL'\n",
        "\n",
        "url = f'https://www.google.com/finance/quote/{ticker}:NSE'\n",
        "\n",
        "response = requests.get(url)"
      ],
      "metadata": {
        "id": "EfRI7eQhEQH-"
      },
      "execution_count": null,
      "outputs": []
    },
    {
      "cell_type": "code",
      "source": [
        "soup = BeautifulSoup(response.text,'html.parser')"
      ],
      "metadata": {
        "id": "qPEeaRvYEdxR"
      },
      "execution_count": null,
      "outputs": []
    },
    {
      "cell_type": "code",
      "source": [
        "class1 = \"YMlKec fxKbKc\""
      ],
      "metadata": {
        "id": "v5slK9dYIkQT"
      },
      "execution_count": null,
      "outputs": []
    },
    {
      "cell_type": "code",
      "source": [],
      "metadata": {
        "id": "iYFFhJW9J3Z-"
      },
      "execution_count": null,
      "outputs": []
    },
    {
      "cell_type": "code",
      "source": [
        "price = float(soup.find(class_ = class1).text.strip()[1:].replace(\",\",\"\"))"
      ],
      "metadata": {
        "id": "hjORrBF8EghX"
      },
      "execution_count": null,
      "outputs": []
    },
    {
      "cell_type": "code",
      "source": [
        "price\n"
      ],
      "metadata": {
        "id": "xKZccP5RPW_F",
        "colab": {
          "base_uri": "https://localhost:8080/"
        },
        "outputId": "13d93b83-2641-4276-91c4-19d5ad1ea78b"
      },
      "execution_count": null,
      "outputs": [
        {
          "output_type": "execute_result",
          "data": {
            "text/plain": [
              "194.65"
            ]
          },
          "metadata": {},
          "execution_count": 21
        }
      ]
    },
    {
      "cell_type": "code",
      "source": [],
      "metadata": {
        "id": "LJ6o7ORUKZie"
      },
      "execution_count": null,
      "outputs": []
    },
    {
      "cell_type": "code",
      "source": [],
      "metadata": {
        "id": "RKnwp13dJ-sP"
      },
      "execution_count": null,
      "outputs": []
    }
  ]
}