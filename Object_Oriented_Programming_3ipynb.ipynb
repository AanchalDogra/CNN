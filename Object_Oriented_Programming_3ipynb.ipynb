{
  "nbformat": 4,
  "nbformat_minor": 0,
  "metadata": {
    "colab": {
      "provenance": [],
      "authorship_tag": "ABX9TyOjKYRbDZedDsxvwpqGlufu",
      "include_colab_link": true
    },
    "kernelspec": {
      "name": "python3",
      "display_name": "Python 3"
    },
    "language_info": {
      "name": "python"
    }
  },
  "cells": [
    {
      "cell_type": "markdown",
      "metadata": {
        "id": "view-in-github",
        "colab_type": "text"
      },
      "source": [
        "<a href=\"https://colab.research.google.com/github/AanchalDogra/CNN/blob/main/Object_Oriented_Programming_3ipynb.ipynb\" target=\"_parent\"><img src=\"https://colab.research.google.com/assets/colab-badge.svg\" alt=\"Open In Colab\"/></a>"
      ]
    },
    {
      "cell_type": "code",
      "execution_count": null,
      "metadata": {
        "id": "jX-Oe9ubiyFN"
      },
      "outputs": [],
      "source": [
        "# Write code once for a given entity , adn create multiple instances after\n",
        "class Student:\n",
        "  def __init__(self, name):\n",
        "    self.name = name\n"
      ]
    },
    {
      "cell_type": "code",
      "source": [
        "s = Student(\"abc\")"
      ],
      "metadata": {
        "id": "g712bm2kpMcx"
      },
      "execution_count": null,
      "outputs": []
    },
    {
      "cell_type": "code",
      "source": [
        "s.name"
      ],
      "metadata": {
        "colab": {
          "base_uri": "https://localhost:8080/",
          "height": 35
        },
        "id": "TNrJLqqfpNn5",
        "outputId": "13e970e7-6348-4c4d-dfde-8b467789b286"
      },
      "execution_count": null,
      "outputs": [
        {
          "output_type": "execute_result",
          "data": {
            "text/plain": [
              "'abc'"
            ],
            "application/vnd.google.colaboratory.intrinsic+json": {
              "type": "string"
            }
          },
          "metadata": {},
          "execution_count": 10
        }
      ]
    },
    {
      "cell_type": "code",
      "source": [
        "# Write code once for a given entity , adn create multiple instances after\n",
        "class Student:\n",
        "  def __init__(self, name =\"default\"):\n",
        "    self.name = name\n",
        "  def __str__(self):\n",
        "    return f\"Student Name : {self.name}\"\n"
      ],
      "metadata": {
        "id": "DOF4trr0pTsM"
      },
      "execution_count": null,
      "outputs": []
    },
    {
      "cell_type": "code",
      "source": [
        "s1 = Student('aanchal')\n",
        "s2 = Student()"
      ],
      "metadata": {
        "id": "KLKaRUUqpwVE"
      },
      "execution_count": null,
      "outputs": []
    },
    {
      "cell_type": "code",
      "source": [
        "print(s1)\n",
        "print(s2)"
      ],
      "metadata": {
        "colab": {
          "base_uri": "https://localhost:8080/"
        },
        "id": "CnzmKNdBp1tn",
        "outputId": "de15a8a6-50b9-4413-bd5e-ab692476dcfc"
      },
      "execution_count": null,
      "outputs": [
        {
          "output_type": "stream",
          "name": "stdout",
          "text": [
            "Student Name : aanchal\n",
            "Student Name : default\n"
          ]
        }
      ]
    },
    {
      "cell_type": "code",
      "source": [],
      "metadata": {
        "id": "-Y8gSOqKp7Nc"
      },
      "execution_count": null,
      "outputs": []
    },
    {
      "cell_type": "code",
      "source": [],
      "metadata": {
        "id": "Y8KrGxaEp0EI"
      },
      "execution_count": null,
      "outputs": []
    }
  ]
}