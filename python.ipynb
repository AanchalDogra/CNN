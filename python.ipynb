{
  "nbformat": 4,
  "nbformat_minor": 0,
  "metadata": {
    "colab": {
      "provenance": [],
      "authorship_tag": "ABX9TyO7b0FcEL2F1TAYiCUcdedS",
      "include_colab_link": true
    },
    "kernelspec": {
      "name": "python3",
      "display_name": "Python 3"
    },
    "language_info": {
      "name": "python"
    }
  },
  "cells": [
    {
      "cell_type": "markdown",
      "metadata": {
        "id": "view-in-github",
        "colab_type": "text"
      },
      "source": [
        "<a href=\"https://colab.research.google.com/github/AanchalDogra/CNN/blob/main/python.ipynb\" target=\"_parent\"><img src=\"https://colab.research.google.com/assets/colab-badge.svg\" alt=\"Open In Colab\"/></a>"
      ]
    },
    {
      "cell_type": "code",
      "execution_count": 1,
      "metadata": {
        "id": "fJFNQwDN-L3F"
      },
      "outputs": [],
      "source": [
        "list1 = [1,2,3,4]\n",
        "list2 = [1,2,3,4]"
      ]
    },
    {
      "cell_type": "code",
      "source": [
        "for i in list1:\n",
        "  for j in list2:\n",
        "    if i == j:\n",
        "      print(i*j)"
      ],
      "metadata": {
        "colab": {
          "base_uri": "https://localhost:8080/"
        },
        "id": "i37Hn1sy-R4y",
        "outputId": "86354b1d-caa5-41d4-8b42-5c7a30194785"
      },
      "execution_count": 3,
      "outputs": [
        {
          "output_type": "stream",
          "name": "stdout",
          "text": [
            "1\n",
            "4\n",
            "9\n",
            "16\n"
          ]
        }
      ]
    },
    {
      "cell_type": "code",
      "source": [
        "import pandas as pd\n",
        "\n",
        "# Sample DataFrames\n",
        "df_values_and_results = pd.DataFrame({\n",
        "    'Value1': [1, 2, 3, 4],\n",
        "    'Value2': [5, 6, 7, 8],\n",
        "    'Value3': [9, 10, 11, 12],\n",
        "    'Value4': [13, 14, 15, 16],\n",
        "    'Result': ['A', 'B', 'C', 'D']\n",
        "})\n",
        "\n",
        "df_values_to_match = pd.DataFrame({\n",
        "    'Value1': [1, 3],\n",
        "    'Value2': [5, 7],\n",
        "    'Value3': [9, 11],\n",
        "    'Value4': [13, 15]\n",
        "})\n",
        "\n",
        "# Merge the DataFrames on the values columns\n",
        "merged_df = pd.merge(df_values_and_results, df_values_to_match, on=['Value1', 'Value2', 'Value3', 'Value4'])\n",
        "\n",
        "# Display the result column for rows where all values match\n",
        "result_column = merged_df['Result']\n",
        "print(result_column)\n"
      ],
      "metadata": {
        "colab": {
          "base_uri": "https://localhost:8080/"
        },
        "id": "Zf6z-Dvd-Zi_",
        "outputId": "8a7c7f08-4d2b-49c8-f5e9-269e5f78fc07"
      },
      "execution_count": 4,
      "outputs": [
        {
          "output_type": "stream",
          "name": "stdout",
          "text": [
            "0    A\n",
            "1    C\n",
            "Name: Result, dtype: object\n"
          ]
        }
      ]
    },
    {
      "cell_type": "code",
      "source": [
        "how to create a datafram"
      ],
      "metadata": {
        "id": "2a39vSoHFj1K"
      },
      "execution_count": null,
      "outputs": []
    }
  ]
}