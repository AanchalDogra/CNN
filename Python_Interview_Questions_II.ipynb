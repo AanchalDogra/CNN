{
  "nbformat": 4,
  "nbformat_minor": 0,
  "metadata": {
    "colab": {
      "provenance": [],
      "authorship_tag": "ABX9TyMXv0W9b5zU52Z6sVnw1krS",
      "include_colab_link": true
    },
    "kernelspec": {
      "name": "python3",
      "display_name": "Python 3"
    },
    "language_info": {
      "name": "python"
    }
  },
  "cells": [
    {
      "cell_type": "markdown",
      "metadata": {
        "id": "view-in-github",
        "colab_type": "text"
      },
      "source": [
        "<a href=\"https://colab.research.google.com/github/AanchalDogra/CNN/blob/main/Python_Interview_Questions_II.ipynb\" target=\"_parent\"><img src=\"https://colab.research.google.com/assets/colab-badge.svg\" alt=\"Open In Colab\"/></a>"
      ]
    },
    {
      "cell_type": "code",
      "execution_count": null,
      "metadata": {
        "id": "BWZqyG7hd47i"
      },
      "outputs": [],
      "source": [
        "x = [1,2,3,4,5]\n",
        "y = [3,4,5,6,7]"
      ]
    },
    {
      "cell_type": "markdown",
      "source": [
        "Q1: Given two arrays, write a python function to return the intersection of the two? For example, X = [1,5,9,0] and Y = [3,0,2,9] it should return [9,0]\n"
      ],
      "metadata": {
        "id": "kir61rDte6hb"
      }
    },
    {
      "cell_type": "code",
      "source": [
        "set(x).intersection(set(y))"
      ],
      "metadata": {
        "colab": {
          "base_uri": "https://localhost:8080/"
        },
        "id": "PBfbbTM7eKzB",
        "outputId": "916fcdbe-f4d7-496c-d4e4-0827fe0b07a7"
      },
      "execution_count": null,
      "outputs": [
        {
          "output_type": "execute_result",
          "data": {
            "text/plain": [
              "{3, 4, 5}"
            ]
          },
          "metadata": {},
          "execution_count": 3
        }
      ]
    },
    {
      "cell_type": "markdown",
      "source": [
        "Q2: Given an array, find all the duplicates in this array? For example: input: [1,2,3,1,3,6,5] output: [1,3]"
      ],
      "metadata": {
        "id": "fzC5BaxafD-3"
      }
    },
    {
      "cell_type": "code",
      "source": [
        "x =  [1,2,3,1,3,6,5]"
      ],
      "metadata": {
        "id": "zRYiBMKEfFHz"
      },
      "execution_count": null,
      "outputs": []
    },
    {
      "cell_type": "code",
      "source": [
        "set1 = set()\n",
        "res = set()\n",
        "for i in x:\n",
        "  if i in set1:\n",
        "    res.add(i)\n",
        "  else:\n",
        "    set1.add(i)"
      ],
      "metadata": {
        "id": "r6JIjCIye3gd"
      },
      "execution_count": null,
      "outputs": []
    },
    {
      "cell_type": "code",
      "source": [
        "list(res)"
      ],
      "metadata": {
        "colab": {
          "base_uri": "https://localhost:8080/"
        },
        "id": "bmgGrWAKf0y8",
        "outputId": "c4125d95-bb5b-45fc-88b6-722384bf886c"
      },
      "execution_count": null,
      "outputs": [
        {
          "output_type": "execute_result",
          "data": {
            "text/plain": [
              "[1, 3]"
            ]
          },
          "metadata": {},
          "execution_count": 11
        }
      ]
    },
    {
      "cell_type": "markdown",
      "source": [
        "Q4: Given an integer array, find the sum of the largest contiguous subarray within the array. For example, given the array A = [0,-1,-5,-2,3,14] it should return 17 because of [3,14]. Note that if all the elements are negative it should return zero."
      ],
      "metadata": {
        "id": "H-urk0zIdQYm"
      }
    },
    {
      "cell_type": "code",
      "source": [],
      "metadata": {
        "id": "xlrDJPlCe07F"
      },
      "execution_count": null,
      "outputs": []
    },
    {
      "cell_type": "markdown",
      "source": [
        "h"
      ],
      "metadata": {
        "id": "Q0cUTVi1dlbe"
      }
    },
    {
      "cell_type": "code",
      "source": [
        "import numpy as np\n",
        "import matplotlib.pyplot as plt\n",
        "\n",
        "x = np.random.randn(100,)\n",
        "\n",
        "plt.hist(x)"
      ],
      "metadata": {
        "colab": {
          "base_uri": "https://localhost:8080/",
          "height": 519
        },
        "id": "aw0o8laYdl_8",
        "outputId": "70fe2ae2-819e-4903-b551-950223941c8f"
      },
      "execution_count": 4,
      "outputs": [
        {
          "output_type": "execute_result",
          "data": {
            "text/plain": [
              "(array([ 4.,  2.,  7., 19., 21., 21., 11.,  9.,  3.,  3.]),\n",
              " array([-2.08532641, -1.61334257, -1.14135872, -0.66937487, -0.19739103,\n",
              "         0.27459282,  0.74657667,  1.21856052,  1.69054436,  2.16252821,\n",
              "         2.63451206]),\n",
              " <BarContainer object of 10 artists>)"
            ]
          },
          "metadata": {},
          "execution_count": 4
        },
        {
          "output_type": "display_data",
          "data": {
            "text/plain": [
              "<Figure size 640x480 with 1 Axes>"
            ],
            "image/png": "[encoded data removed]"
          },
          "metadata": {}
        }
      ]
    },
    {
      "cell_type": "code",
      "source": [],
      "metadata": {
        "id": "lkLPiHMmdmkO"
      },
      "execution_count": null,
      "outputs": []
    }
  ]
}