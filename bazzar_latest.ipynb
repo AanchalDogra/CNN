{
  "nbformat": 4,
  "nbformat_minor": 0,
  "metadata": {
    "colab": {
      "provenance": [],
      "authorship_tag": "ABX9TyMgxod4fmGZdgWk1zOgqJM6",
      "include_colab_link": true
    },
    "kernelspec": {
      "name": "python3",
      "display_name": "Python 3"
    },
    "language_info": {
      "name": "python"
    }
  },
  "cells": [
    {
      "cell_type": "markdown",
      "metadata": {
        "id": "view-in-github",
        "colab_type": "text"
      },
      "source": [
        "<a href=\"https://colab.research.google.com/github/AanchalDogra/CNN/blob/main/bazzar_latest.ipynb\" target=\"_parent\"><img src=\"https://colab.research.google.com/assets/colab-badge.svg\" alt=\"Open In Colab\"/></a>"
      ]
    },
    {
      "cell_type": "code",
      "execution_count": null,
      "metadata": {
        "id": "--wMkS372mLZ"
      },
      "outputs": [],
      "source": [
        "import urllib.parse\n",
        "import pandas as pd\n",
        "import requests"
      ]
    },
    {
      "cell_type": "code",
      "source": [
        "apiKey = '3d64ad68-fdcc-43e8-b0cf-92ea2877b2f5'\n",
        "secretKey = '07d3cp69p9'\n",
        "rurl = 'https://127.0.0.1:5000/'"
      ],
      "metadata": {
        "id": "E7U_f8XN2vp1"
      },
      "execution_count": null,
      "outputs": []
    },
    {
      "cell_type": "code",
      "source": [
        "uri = f'https://api.upstox.com/v2/login/authorization/dialog?response_type=code&client_id={apiKey}&redirect_uri={rurl}'"
      ],
      "metadata": {
        "id": "XeicUBms3GF1"
      },
      "execution_count": null,
      "outputs": []
    },
    {
      "cell_type": "code",
      "source": [
        "uri"
      ],
      "metadata": {
        "colab": {
          "base_uri": "https://localhost:8080/",
          "height": 53
        },
        "id": "DSzS6O_B37X2",
        "outputId": "69634bde-4084-411d-dc36-13a8dbc8e1be"
      },
      "execution_count": null,
      "outputs": [
        {
          "output_type": "execute_result",
          "data": {
            "text/plain": [
              "'https://api.upstox.com/v2/login/authorization/dialog?response_type=code&client_id=3d64ad68-fdcc-43e8-b0cf-92ea2877b2f5&redirect_uri=https://127.0.0.1:5000/'"
            ],
            "application/vnd.google.colaboratory.intrinsic+json": {
              "type": "string"
            }
          },
          "metadata": {},
          "execution_count": 30
        }
      ]
    },
    {
      "cell_type": "code",
      "source": [
        "code = '5yTlgb'"
      ],
      "metadata": {
        "id": "MigJHFUZ38hR"
      },
      "execution_count": null,
      "outputs": []
    },
    {
      "cell_type": "code",
      "source": [
        "url = 'https://api.upstox.com/v2/login/authorization/token'\n",
        "headers = {\n",
        "    'accept' :'application/json',\n",
        "    'Api-version':'2.0',\n",
        "    'Content-Type' : 'application/x-www-form-urlencoded'\n",
        "}\n",
        "\n",
        "data = {\n",
        "    'code' : code,\n",
        "    'client_id': apiKey,\n",
        "    'client_secret' :secretKey,\n",
        "    'redirect_url' :rurl,\n",
        "    'grant_type' :'authorization_code'\n",
        "}"
      ],
      "metadata": {
        "id": "PKD5V2HK94uI"
      },
      "execution_count": null,
      "outputs": []
    },
    {
      "cell_type": "code",
      "source": [
        "response = requests.post(url,headers = headers, data = data)"
      ],
      "metadata": {
        "id": "3YtarWtAAHde"
      },
      "execution_count": null,
      "outputs": []
    },
    {
      "cell_type": "code",
      "source": [
        "json_response = response.json()\n",
        "json_response"
      ],
      "metadata": {
        "colab": {
          "base_uri": "https://localhost:8080/"
        },
        "id": "9LeuBAWJAWAC",
        "outputId": "704106b6-a019-42a8-917b-7e03491440c1"
      },
      "execution_count": null,
      "outputs": [
        {
          "output_type": "execute_result",
          "data": {
            "text/plain": [
              "{'status': 'error',\n",
              " 'errors': [{'errorCode': 'UDAPI10000',\n",
              "   'message': 'This request is not supported by Upstox API',\n",
              "   'propertyPath': None,\n",
              "   'invalidValue': None,\n",
              "   'error_code': 'UDAPI10000',\n",
              "   'property_path': None,\n",
              "   'invalid_value': None}]}"
            ]
          },
          "metadata": {},
          "execution_count": 34
        }
      ]
    },
    {
      "cell_type": "code",
      "source": [],
      "metadata": {
        "id": "YMVsL0erAgNZ"
      },
      "execution_count": null,
      "outputs": []
    }
  ]
}